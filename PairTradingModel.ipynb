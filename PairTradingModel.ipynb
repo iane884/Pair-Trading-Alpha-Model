{
 "cells": [
  {
   "cell_type": "markdown",
   "metadata": {},
   "source": [
    "# Pair Trading with Cointegration"
   ]
  },
  {
   "cell_type": "markdown",
   "metadata": {},
   "source": [
    "This file will contain a guide to a relatively straight forward trading model surrounding pair trading."
   ]
  },
  {
   "cell_type": "markdown",
   "metadata": {},
   "source": [
    "## Background Information"
   ]
  },
  {
   "cell_type": "markdown",
   "metadata": {},
   "source": [
    "### What is Pair Trading?"
   ]
  },
  {
   "cell_type": "markdown",
   "metadata": {},
   "source": [
    "Pair trading is a two-stock alpha model that expects the chosen equities to trade similarly. The idea is that when the two stocks converge to an unusual ratio, they should converge at some point in the future. The idea is to buy the cheaper stock and short the more expensive stock to make a profit on the reversion."
   ]
  },
  {
   "cell_type": "markdown",
   "metadata": {},
   "source": [
    "### What is Cointegration?"
   ]
  },
  {
   "cell_type": "markdown",
   "metadata": {},
   "source": [
    "Cointegration is a statistical measurement that analyses how closely two time-series datasets interact. We will be using this to evaluate which stocks to trade."
   ]
  },
  {
   "cell_type": "markdown",
   "metadata": {},
   "source": [
    "## Coding the Pair Trading Algorithm"
   ]
  },
  {
   "cell_type": "markdown",
   "metadata": {},
   "source": [
    "The rest of this file will be a guide to this pair trading algorithm. It WILL NOT be complete. Instead, you are encouraged to read the guide and fill in blocks of code to implement this trading strategy."
   ]
  },
  {
   "cell_type": "markdown",
   "metadata": {},
   "source": [
    "### Grabbing Data"
   ]
  },
  {
   "cell_type": "markdown",
   "metadata": {},
   "source": [
    "How can you trade without data? In this demo, we are going to identify the best Technology stock pairs to trade within the S&P 500. To do this, we need to grab two pieces of information: which stocks are tech stocks, and what is their historical data?"
   ]
  },
  {
   "cell_type": "code",
   "execution_count": 2,
   "metadata": {},
   "outputs": [],
   "source": [
    "### \n",
    "# Necessary Imports\n",
    "###\n",
    "import numpy as np\n",
    "import pandas as pd\n",
    "import statsmodels.tsa.stattools as sm\n",
    "import requests\n",
    "import bs4 as bs"
   ]
  },
  {
   "cell_type": "code",
   "execution_count": 3,
   "metadata": {},
   "outputs": [],
   "source": [
    "####\n",
    "# The code below is a webscraper to grab stock tickers from Wikipedia that are in the Technology sector\n",
    "####\n",
    "\n",
    "#Obtain list of S&P500 companies from wikipedia\n",
    "resp = requests.get(\"https://en.wikipedia.org/wiki/List_of_S%26P_500_companies\")\n",
    "convert_soup = bs.BeautifulSoup(resp.text, 'lxml')\n",
    "table = convert_soup.find('table',{'class':'wikitable sortable'})\n",
    "\n",
    "# Stock_and_sector has information on the stock ticker and GICS sector; tickers holds only Information Technology tickers\n",
    "stock_and_sector = []\n",
    "tickers = []\n",
    "\n",
    "# Grab all stock tickers and their associated GICS classification\n",
    "for rows in table.findAll('tr')[1:]:\n",
    "    stock_and_sector.append([rows.findAll('td')[0].text.strip(), rows.findAll('td')[2].text.strip()])\n",
    "\n",
    "# Select only the Information Technology stocks and add their tickers to \"tickers\"\n",
    "for stocks in stock_and_sector:\n",
    "    if stocks[1] == \"Information Technology\":\n",
    "        tickers.append(stocks[0])"
   ]
  },
  {
   "cell_type": "code",
   "execution_count": 4,
   "metadata": {},
   "outputs": [
    {
     "name": "stdout",
     "output_type": "stream",
     "text": [
      "[*********************100%%**********************]  64 of 64 completed\n"
     ]
    }
   ],
   "source": [
    "####\n",
    "# IMPLEMENT HERE: Grab historical stock data. I recommend one of two sources: yfinance is the quickest, easiest source; \n",
    "# Openbb offers the most data, but it is more difficult to set up. \n",
    "####\n",
    "\n",
    "import yfinance as yf\n",
    "# import from openbb_terminal.sdk import openbb\n",
    "\n",
    "# Get stock data over the last year; Use the Adj Close to account for stock splits and dividends\n",
    "data = yf.download(tickers, period=\"1y\")[\"Adj Close\"].dropna()"
   ]
  },
  {
   "cell_type": "markdown",
   "metadata": {},
   "source": [
    "### Identifying Pairs"
   ]
  },
  {
   "cell_type": "markdown",
   "metadata": {},
   "source": [
    "As mentioned previously, we want to use cointegration to identify which stocks trend together. To do this, identify possible pairs within our list of data, and take the cointegration of their prices.\n",
    "\n",
    "To learn more about the function and implementation, see https://www.statsmodels.org/stable/generated/statsmodels.tsa.stattools.coint.html"
   ]
  },
  {
   "cell_type": "code",
   "execution_count": 5,
   "metadata": {},
   "outputs": [],
   "source": [
    "####\n",
    "# IMPLEMENT HERE: How can you get a list of all pairs of our technology stocks? This might have a slow runtime.\n",
    "####\n",
    "\n",
    "pairs = []\n",
    "\n",
    "# Brute force all possible pairs\n",
    "for i in range(len(tickers)):\n",
    "    for j in range(i+1, len(tickers)):\n",
    "        pairs.append(tickers[i] + \" | \" + tickers[j])\n"
   ]
  },
  {
   "cell_type": "code",
   "execution_count": 6,
   "metadata": {},
   "outputs": [],
   "source": [
    "####\n",
    "# IMPLEMENT HERE: How can you identify the cointegration of each pair? \n",
    "# HINT: Compare Adj Close and np.log(Adj Close)\n",
    "####\n",
    "\n",
    "cointegrated = []\n",
    "\n",
    "for i in pairs:\n",
    "    curr1, curr2 = i.split(\" | \")\n",
    "    \n",
    "    # perform comparison between each stock to grab data\n",
    "    t_stat, p_val = np.abs(sm.coint(data[curr1], data[curr2])[:2])\n",
    "    \n",
    "    # If both the t stat and p value are significant, there is a high chance the pair is cointegrated, thus tradeable\n",
    "    if t_stat < 0.05 and p_val < 0.05:\n",
    "        cointegrated.append(i)"
   ]
  },
  {
   "cell_type": "markdown",
   "metadata": {},
   "source": [
    "### When do we trade?"
   ]
  },
  {
   "cell_type": "markdown",
   "metadata": {},
   "source": [
    "Now that we have used cointegration, we know the most correlated stock pairs. Now, how do we identify when we actually enter a long-short trade of this pair? In other words, at what point is the stock most likely to converge?\n",
    "\n",
    "HINT: Consider a single data point that directly compares the price of one stock to another.\n",
    "\n",
    "HINT: What statistical value tells you how far a point is from average relative to the known data? (i.e. how many standard deviations away?)"
   ]
  },
  {
   "cell_type": "code",
   "execution_count": 7,
   "metadata": {},
   "outputs": [
    {
     "data": {
      "text/html": [
       "<div>\n",
       "<style scoped>\n",
       "    .dataframe tbody tr th:only-of-type {\n",
       "        vertical-align: middle;\n",
       "    }\n",
       "\n",
       "    .dataframe tbody tr th {\n",
       "        vertical-align: top;\n",
       "    }\n",
       "\n",
       "    .dataframe thead th {\n",
       "        text-align: right;\n",
       "    }\n",
       "</style>\n",
       "<table border=\"1\" class=\"dataframe\">\n",
       "  <thead>\n",
       "    <tr style=\"text-align: right;\">\n",
       "      <th></th>\n",
       "    </tr>\n",
       "  </thead>\n",
       "  <tbody>\n",
       "  </tbody>\n",
       "</table>\n",
       "</div>"
      ],
      "text/plain": [
       "Empty DataFrame\n",
       "Columns: []\n",
       "Index: []"
      ]
     },
     "execution_count": 7,
     "metadata": {},
     "output_type": "execute_result"
    }
   ],
   "source": [
    "####\n",
    "# IMPLEMENT HERE: Identify a comparison between the price of your pairs and create a new data frame containing the information\n",
    "####\n",
    "\n",
    "pair_data = pd.DataFrame()\n",
    "\n",
    "for i in cointegrated:\n",
    "    curr1, curr2 = i.split(\" | \")\n",
    "    \n",
    "    # Take the ratio of the pair to identify when the stock is overpriced / underpriced relative to average\n",
    "    pair_data[i] = data[curr1]/data[curr2]\n",
    "    \n",
    "pair_data"
   ]
  },
  {
   "cell_type": "code",
   "execution_count": 8,
   "metadata": {},
   "outputs": [
    {
     "data": {
      "text/plain": [
       "Series([], dtype: float64)"
      ]
     },
     "execution_count": 8,
     "metadata": {},
     "output_type": "execute_result"
    }
   ],
   "source": [
    "####\n",
    "# IMPLEMENT HERE: Identify the points in time where you should trade that individual pair.\n",
    "# HINT: Use the \"APPLY\" function on your new Dataframe https://pandas.pydata.org/pandas-docs/stable/reference/api/pandas.DataFrame.apply.html\n",
    "####\n",
    "\n",
    "from scipy.stats import zscore\n",
    "\n",
    "# Get the z-score values of ratios on each day to understand when a stock is over or under valued\n",
    "signals = pair_data.apply(zscore)\n",
    "\n",
    "# Create a function to identify when the z score is abnormal (beyond 1.5 standard deviations) and create a signal to \n",
    "# buy or sell the pair, where buying a pair means buying stock 1 and shorting stock 2 (ratio = stock 1 / stock 2)\n",
    "def signal(val):\n",
    "    if val > 1.5:\n",
    "        return 1\n",
    "    elif val < -1.5:\n",
    "        return -1\n",
    "    else:\n",
    "        return 0\n",
    "\n",
    "# Use the signal function for each column to get buy and sell signals\n",
    "for i in cointegrated:\n",
    "    signals[i] = signals[i].apply(signal)\n",
    "\n",
    "signals"
   ]
  },
  {
   "cell_type": "markdown",
   "metadata": {},
   "source": [
    "## Moving Forward"
   ]
  },
  {
   "cell_type": "markdown",
   "metadata": {},
   "source": [
    "The following are intended as thought experiments for now, but you are welcome to take a stab at implementing each topic if you wish."
   ]
  },
  {
   "cell_type": "markdown",
   "metadata": {},
   "source": [
    "### Testing"
   ]
  },
  {
   "cell_type": "markdown",
   "metadata": {},
   "source": [
    "We now have a set of \"indicators\" identifying where we want to trade each pair. Now, there are a few different ways to test the effectiveness of your model.\n",
    "\n",
    "1) Backtest: Simulate the results of buying and selling.\n",
    "2) Classify: Identify whether or not reversion happens after your signal and determine your \"hit rate\".\n",
    "\n",
    "We will cover how to actually do each method in the near future."
   ]
  },
  {
   "cell_type": "markdown",
   "metadata": {},
   "source": [
    "### Revisiting the Model"
   ]
  },
  {
   "cell_type": "markdown",
   "metadata": {},
   "source": [
    "Think about how we are currently doing our cointegration. What problems might arise with this method? How can we fix this?\n",
    "\n",
    "HINT: Consider the data we are using in the cointegration vs. the data we can see at the time of trade. "
   ]
  },
  {
   "cell_type": "markdown",
   "metadata": {},
   "source": [
    "****Answer****\n",
    "\n",
    "Forward-looking data! The cointegration function is being used on the same data that we are using to find signals. This means that each cointegrated pair is determined from future data. For example, the code generates a signal to buy the \"ACE | ADBE\" pair (meaning buy ACE, short ADBE) on 11/04/2022. However, this pair was found by observing data from 11/04/2022 to 11/04/2023. \n",
    "\n",
    "To fix this issue, we need to do a rolling cointegration test. This means we need to grab an extra year of data and determine the cointegration of pairs for the year leading up to the current day. In the example mentioned above, the theoretical code would test the \"ACE | ADBE\" pair from 11/04/2021 to 11/04/2022 to see if it is tradeable. That way, we only use data that is actually apparent the day we generate the signal."
   ]
  }
 ],
 "metadata": {
  "kernelspec": {
   "display_name": "Python 3",
   "language": "python",
   "name": "python3"
  },
  "language_info": {
   "codemirror_mode": {
    "name": "ipython",
    "version": 3
   },
   "file_extension": ".py",
   "mimetype": "text/x-python",
   "name": "python",
   "nbconvert_exporter": "python",
   "pygments_lexer": "ipython3",
   "version": "3.12.4 (v3.12.4:8e8a4baf65, Jun  6 2024, 17:33:18) [Clang 13.0.0 (clang-1300.0.29.30)]"
  },
  "vscode": {
   "interpreter": {
    "hash": "aee8b7b246df8f9039afb4144a1f6fd8d2ca17a180786b69acc140d282b71a49"
   }
  }
 },
 "nbformat": 4,
 "nbformat_minor": 2
}
