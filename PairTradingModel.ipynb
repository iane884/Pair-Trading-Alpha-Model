{
 "cells": [
  {
   "cell_type": "markdown",
   "metadata": {},
   "source": [
    "# Pair Trading with Cointegration"
   ]
  },
  {
   "cell_type": "markdown",
   "metadata": {},
   "source": [
    "## Background Information"
   ]
  },
  {
   "cell_type": "markdown",
   "metadata": {},
   "source": [
    "### What is Pair Trading?"
   ]
  },
  {
   "cell_type": "markdown",
   "metadata": {},
   "source": [
    "Pair trading is a two-stock alpha model that expects the chosen equities to trade similarly. The idea is that when the two stocks converge to an unusual ratio, they should converge at some point in the future. The idea is to buy the cheaper stock and short the more expensive stock to make a profit on the reversion."
   ]
  },
  {
   "cell_type": "markdown",
   "metadata": {},
   "source": [
    "### What is Cointegration?"
   ]
  },
  {
   "cell_type": "markdown",
   "metadata": {},
   "source": [
    "Cointegration is a statistical measurement that analyses how closely two time-series datasets interact. We will be using this to evaluate which stocks to trade."
   ]
  },
  {
   "cell_type": "markdown",
   "metadata": {},
   "source": [
    "### Grabbing Data"
   ]
  },
  {
   "cell_type": "code",
   "execution_count": 2,
   "metadata": {},
   "outputs": [],
   "source": [
    "### \n",
    "# Necessary Imports\n",
    "###\n",
    "import numpy as np\n",
    "import pandas as pd\n",
    "import statsmodels.tsa.stattools as sm\n",
    "import requests\n",
    "import bs4 as bs"
   ]
  },
  {
   "cell_type": "code",
   "execution_count": 3,
   "metadata": {},
   "outputs": [],
   "source": [
    "####\n",
    "# The code below is a webscraper to grab stock tickers from Wikipedia that are in the Technology sector\n",
    "####\n",
    "\n",
    "#Obtain list of S&P500 companies from wikipedia\n",
    "resp = requests.get(\"https://en.wikipedia.org/wiki/List_of_S%26P_500_companies\")\n",
    "convert_soup = bs.BeautifulSoup(resp.text, 'lxml')\n",
    "table = convert_soup.find('table',{'class':'wikitable sortable'})\n",
    "\n",
    "# Stock_and_sector has information on the stock ticker and GICS sector; tickers holds only Information Technology tickers\n",
    "stock_and_sector = []\n",
    "tickers = []\n",
    "\n",
    "# Grab all stock tickers and their associated GICS classification\n",
    "for rows in table.findAll('tr')[1:]:\n",
    "    stock_and_sector.append([rows.findAll('td')[0].text.strip(), rows.findAll('td')[2].text.strip()])\n",
    "\n",
    "# Select only the Information Technology stocks and add their tickers to \"tickers\"\n",
    "for stocks in stock_and_sector:\n",
    "    if stocks[1] == \"Information Technology\":\n",
    "        tickers.append(stocks[0])"
   ]
  },
  {
   "cell_type": "code",
   "execution_count": 4,
   "metadata": {},
   "outputs": [
    {
     "name": "stdout",
     "output_type": "stream",
     "text": [
      "[*********************100%%**********************]  64 of 64 completed\n"
     ]
    }
   ],
   "source": [
    "####\n",
    "# Grab historical stock data\n",
    "####\n",
    "\n",
    "import yfinance as yf\n",
    "\n",
    "# Get stock data over the last year; Use the Adj Close to account for stock splits and dividends\n",
    "data = yf.download(tickers, period=\"1y\")[\"Adj Close\"].dropna()"
   ]
  },
  {
   "cell_type": "markdown",
   "metadata": {},
   "source": [
    "### Identifying Pairs"
   ]
  },
  {
   "cell_type": "code",
   "execution_count": 5,
   "metadata": {},
   "outputs": [],
   "source": [
    "####\n",
    "# Get a list of all pairs of our technology stocks\n",
    "####\n",
    "\n",
    "pairs = []\n",
    "\n",
    "# Brute force all possible pairs\n",
    "for i in range(len(tickers)):\n",
    "    for j in range(i+1, len(tickers)):\n",
    "        pairs.append(tickers[i] + \" | \" + tickers[j])\n"
   ]
  },
  {
   "cell_type": "code",
   "execution_count": 6,
   "metadata": {},
   "outputs": [],
   "source": [
    "####\n",
    "# Identify the cointegration of each pair?\n",
    "# Compare Adj Close and np.log(Adj Close)\n",
    "####\n",
    "\n",
    "cointegrated = []\n",
    "\n",
    "for i in pairs:\n",
    "    curr1, curr2 = i.split(\" | \")\n",
    "    \n",
    "    # perform comparison between each stock to grab data\n",
    "    t_stat, p_val = np.abs(sm.coint(data[curr1], data[curr2])[:2])\n",
    "    \n",
    "    # If both the t stat and p value are significant, there is a high chance the pair is cointegrated, thus tradeable\n",
    "    if t_stat < 0.05 and p_val < 0.05:\n",
    "        cointegrated.append(i)"
   ]
  },
  {
   "cell_type": "markdown",
   "metadata": {},
   "source": [
    "### When do we trade?"
   ]
  },
  {
   "attachments": {},
   "cell_type": "markdown",
   "metadata": {},
   "source": [
    "Now that we have used cointegration, we know the most correlated stock pairs. Now, how do we identify when we actually enter a long-short trade of this pair? In other words, at what point is the stock most likely to converge?\n",
    "\n",
    "Consider a single data point that directly compares the price of one stock to another.\n",
    "\n",
    "What statistical value tells you how far a point is from average relative to the known data? (i.e. how many standard deviations away?)"
   ]
  },
  {
   "cell_type": "code",
   "execution_count": 7,
   "metadata": {},
   "outputs": [
    {
     "data": {
      "text/html": [
       "<div>\n",
       "<style scoped>\n",
       "    .dataframe tbody tr th:only-of-type {\n",
       "        vertical-align: middle;\n",
       "    }\n",
       "\n",
       "    .dataframe tbody tr th {\n",
       "        vertical-align: top;\n",
       "    }\n",
       "\n",
       "    .dataframe thead th {\n",
       "        text-align: right;\n",
       "    }\n",
       "</style>\n",
       "<table border=\"1\" class=\"dataframe\">\n",
       "  <thead>\n",
       "    <tr style=\"text-align: right;\">\n",
       "      <th></th>\n",
       "    </tr>\n",
       "  </thead>\n",
       "  <tbody>\n",
       "  </tbody>\n",
       "</table>\n",
       "</div>"
      ],
      "text/plain": [
       "Empty DataFrame\n",
       "Columns: []\n",
       "Index: []"
      ]
     },
     "execution_count": 7,
     "metadata": {},
     "output_type": "execute_result"
    }
   ],
   "source": [
    "####\n",
    "# Identify a comparison between the price of your pairs and create a new data frame containing the information\n",
    "####\n",
    "\n",
    "pair_data = pd.DataFrame()\n",
    "\n",
    "for i in cointegrated:\n",
    "    curr1, curr2 = i.split(\" | \")\n",
    "    \n",
    "    # Take the ratio of the pair to identify when the stock is overpriced / underpriced relative to average\n",
    "    pair_data[i] = data[curr1]/data[curr2]\n",
    "    \n",
    "pair_data"
   ]
  },
  {
   "cell_type": "code",
   "execution_count": 8,
   "metadata": {},
   "outputs": [
    {
     "data": {
      "text/plain": [
       "Series([], dtype: float64)"
      ]
     },
     "execution_count": 8,
     "metadata": {},
     "output_type": "execute_result"
    }
   ],
   "source": [
    "####\n",
    "# Identify the points in time where you should trade that individual pair\n",
    "####\n",
    "\n",
    "from scipy.stats import zscore\n",
    "\n",
    "# Get the z-score values of ratios on each day to understand when a stock is over or under valued\n",
    "signals = pair_data.apply(zscore)\n",
    "\n",
    "# Create a function to identify when the z score is abnormal (beyond 1.5 standard deviations) and create a signal to \n",
    "# buy or sell the pair, where buying a pair means buying stock 1 and shorting stock 2 (ratio = stock 1 / stock 2)\n",
    "def signal(val):\n",
    "    if val > 1.5:\n",
    "        return 1\n",
    "    elif val < -1.5:\n",
    "        return -1\n",
    "    else:\n",
    "        return 0\n",
    "\n",
    "# Use the signal function for each column to get buy and sell signals\n",
    "for i in cointegrated:\n",
    "    signals[i] = signals[i].apply(signal)\n",
    "\n",
    "signals"
   ]
  }
 ],
 "metadata": {
  "kernelspec": {
   "display_name": "Python 3",
   "language": "python",
   "name": "python3"
  },
  "language_info": {
   "codemirror_mode": {
    "name": "ipython",
    "version": 3
   },
   "file_extension": ".py",
   "mimetype": "text/x-python",
   "name": "python",
   "nbconvert_exporter": "python",
   "pygments_lexer": "ipython3",
   "version": "3.12.4 (v3.12.4:8e8a4baf65, Jun  6 2024, 17:33:18) [Clang 13.0.0 (clang-1300.0.29.30)]"
  },
  "vscode": {
   "interpreter": {
    "hash": "aee8b7b246df8f9039afb4144a1f6fd8d2ca17a180786b69acc140d282b71a49"
   }
  }
 },
 "nbformat": 4,
 "nbformat_minor": 2
}
